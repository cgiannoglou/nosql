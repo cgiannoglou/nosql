{
 "cells": [
  {
   "cell_type": "code",
   "execution_count": 1,
   "metadata": {},
   "outputs": [
    {
     "name": "stdout",
     "output_type": "stream",
     "text": [
      "Connection Succeed\n"
     ]
    },
    {
     "data": {
      "text/plain": [
       "<pymongo.results.InsertOneResult at 0x60bd9deb48>"
      ]
     },
     "execution_count": 1,
     "metadata": {},
     "output_type": "execute_result"
    }
   ],
   "source": [
    "from pymongo import MongoClient\n",
    "from pyspark import SparkConf, SparkContext\n",
    "import json\n",
    "import numpy as np\n",
    "\n",
    "def connect_to_mongodb(MONGO_HOST, MONGO_PORT, MONGO_DB, MONGO_USER, MONGO_PASSWORD, colllection_name):\n",
    "    client = MongoClient(MONGO_HOST, MONGO_PORT)\n",
    "    db = client[MONGO_DB]\n",
    "    #db.authenticate(MONGO_USER, MONGO_PASSWORD)\n",
    "    print(\"Connection Succeed\")\n",
    "    return db[colllection_name]\n",
    "\n",
    "#mycol = connect_to_mongodb('localhost', 27017, 'trajectories', '', '','objects')\n",
    "#mydict = { \"id\": \"2116\", \"lon\": -3.4032816, \"lat\": 47.34281, \"t\": 1443688571 }\n",
    "#mycol.insert_one(mydict)"
   ]
  },
  {
   "cell_type": "code",
   "execution_count": 2,
   "metadata": {},
   "outputs": [
    {
     "name": "stdout",
     "output_type": "stream",
     "text": [
      "Connection Succeed\n",
      "[{'_id': ObjectId('5bb870131355d31780bcd62b'), 'id': '2115', 'lon': -3.4032917, 'lat': 46.91752, 't': 1443688694}, {'_id': ObjectId('5bb8b36c1355d31468a08cb9'), 'id': '2115', 'lon': -3.4032917, 'lat': 46.91752, 't': 1443688694}, {'_id': ObjectId('5bbcdb721355d31810fc9a92'), 'id': '2115', 'lon': -3.4032917, 'lat': 46.91752, 't': 1443688694}, {'_id': ObjectId('5bb677081355d311d44154c2'), 'id': '2115', 'lon': -3.0043533, 'lat': 46.860394, 't': 1443688426}, {'_id': ObjectId('5bbd16fb1355d319c4c774da'), 'id': '2115', 'lon': -3.4032816, 'lat': 47.34281, 't': 1443688571}, {'_id': ObjectId('5bbd176c1355d319c4c774dd'), 'id': '2116', 'lon': -3.4032816, 'lat': 47.34281, 't': 1443688571}, {'_id': ObjectId('5bc366081355d31ea8b91f32'), 'id': '2116', 'lon': -3.4032816, 'lat': 47.34281, 't': 1443688571}]\n"
     ]
    }
   ],
   "source": [
    "def k_neghbors(x,y,k,t_min,t_max):\n",
    "    mycol = connect_to_mongodb('localhost', 27017, 'trajectories', '', '','objects')\n",
    "    #query = '{\"$and\":[{\"t\":{\"$gt\":'+str(t_min)+'},{\"t\":{\"$lt\":'+str(t_max)+'}}]}'\n",
    "    query = '{\"$and\":[{\"t\":{\"$gt\":'+str(t_min)+'}},{\"t\":{\"$lt\":'+str(t_max)+'}}]}'\n",
    "    #query = '{\"t\":{\"$gt\":'+str(t_min)+'}}'\n",
    "    k1 = json.loads(query)\n",
    "    cursor = mycol.find()\n",
    "    documents = []\n",
    "    counter = 0\n",
    "    for document in cursor:\n",
    "        documents.insert(counter, document)\n",
    "        counter += 1\n",
    "    #print(documents)\n",
    "    b1 = np.array((x,y))\n",
    "    distances = []\n",
    "    document = []\n",
    "    counter = 0\n",
    "    for doc in documents:\n",
    "        b2 = np.array((doc['lon'],doc['lat']))\n",
    "        dist = np.linalg.norm(b1-b2)\n",
    "        distances.append((counter,dist))\n",
    "        counter += 1\n",
    "    distances = sorted(distances, key=lambda distance: distance[1])\n",
    "    if len(distances) > k:\n",
    "        for j in range(k):\n",
    "            document.append(documents[distances[j][0]])\n",
    "    else:\n",
    "        for j in range(len(distances)):\n",
    "            document.append(documents[distances[j][0]])\n",
    "    return document\n",
    "    \n",
    "document = k_neghbors(-3.4032917,46.91752,10,1443687610,1643689790)\n",
    "print(document)"
   ]
  },
  {
   "cell_type": "code",
   "execution_count": 3,
   "metadata": {},
   "outputs": [
    {
     "name": "stdout",
     "output_type": "stream",
     "text": [
      "Connection Succeed\n",
      "[{'_id': ObjectId('5bb870131355d31780bcd62b'), 'id': '2115', 'lon': -3.4032917, 'lat': 46.91752, 't': 1443688694}, {'_id': ObjectId('5bbd176c1355d319c4c774dd'), 'id': '2116', 'lon': -3.4032816, 'lat': 47.34281, 't': 1443688571}]\n"
     ]
    }
   ],
   "source": [
    "def k_unique_neghbors(x,y,k,t_min,t_max):\n",
    "    mycol = connect_to_mongodb('localhost', 27017, 'trajectories', '', '','objects')\n",
    "    query = '{\"$and\":[{\"t\":{\"$gt\":'+str(t_min)+'}},{\"t\":{\"$lt\":'+str(t_max)+'}}]}'\n",
    "    k1 = json.loads(query)\n",
    "    cursor = mycol.find(k1)\n",
    "    documents = []\n",
    "    counter = 0\n",
    "    for document in cursor:\n",
    "        documents.insert(counter, document)\n",
    "        counter += 1\n",
    "    #print(documents)\n",
    "    b1 = np.array((x,y))\n",
    "    distances = []\n",
    "    ids = []\n",
    "    document = []\n",
    "    counter = 0\n",
    "    for doc in documents:\n",
    "        b2 = np.array((doc['lon'],doc['lat']))\n",
    "        dist = np.linalg.norm(b1-b2)\n",
    "        distances.append((counter,dist,doc['id']))\n",
    "        counter += 1\n",
    "    distances = sorted(distances, key=lambda distance: distance[1])\n",
    "    for j in range(len(distances)):\n",
    "        if len(document) < k:\n",
    "            if document != []:\n",
    "                for doc in document:\n",
    "                    traj_object = documents[distances[j][0]]\n",
    "                    if traj_object['id'] != doc['id']:\n",
    "                        document.append(documents[distances[j][0]])\n",
    "            else:\n",
    "                document.append(documents[distances[j][0]])\n",
    "        else:\n",
    "            break\n",
    "    return document\n",
    "    \n",
    "document = k_unique_neghbors(-3.4032917,46.91752,2,1443687610,1643689790)\n",
    "print(document)"
   ]
  },
  {
   "cell_type": "code",
   "execution_count": 11,
   "metadata": {},
   "outputs": [
    {
     "name": "stdout",
     "output_type": "stream",
     "text": [
      "Connection Succeed\n",
      "[{'_id': ObjectId('5bb677081355d311d44154c2'), 'id': '2115', 'lon': -3.0043533, 'lat': 46.860394, 't': 1443688426}, {'_id': ObjectId('5bb870131355d31780bcd62b'), 'id': '2115', 'lon': -3.4032917, 'lat': 46.91752, 't': 1443688694}, {'_id': ObjectId('5bb8b36c1355d31468a08cb9'), 'id': '2115', 'lon': -3.4032917, 'lat': 46.91752, 't': 1443688694}, {'_id': ObjectId('5bbcdb721355d31810fc9a92'), 'id': '2115', 'lon': -3.4032917, 'lat': 46.91752, 't': 1443688694}, {'_id': ObjectId('5bbd16fb1355d319c4c774da'), 'id': '2115', 'lon': -3.4032816, 'lat': 47.34281, 't': 1443688571}, {'_id': ObjectId('5bbd176c1355d319c4c774dd'), 'id': '2116', 'lon': -3.4032816, 'lat': 47.34281, 't': 1443688571}, {'_id': ObjectId('5bc366081355d31ea8b91f32'), 'id': '2116', 'lon': -3.4032816, 'lat': 47.34281, 't': 1443688571}]\n"
     ]
    }
   ],
   "source": [
    "def range_query(x_min, x_max, y_min, y_max, t_min, t_max):\n",
    "    mycol = connect_to_mongodb('localhost', 27017, 'trajectories', '', '','objects')\n",
    "    #query = '{\"$and\":[{\"t\":{\"$gt\":'+str(t_min)+'},{\"t\":{\"$lt\":'+str(t_max)+'}}]}'\n",
    "    query = '{\"$and\":[{\"t\":{\"$gt\":'+str(t_min)+'}},{\"t\":{\"$lt\":'+str(t_max)+'}},{\"lon\":{\"$gt\":'+str(x_min)+'}},\\\n",
    "    {\"lon\":{\"$lt\":'+str(x_max)+'}},{\"lat\":{\"$gt\":'+str(y_min)+'}},{\"lat\":{\"$lt\":'+str(y_max)+'}}]}'\n",
    "    #query = '{\"t\":{\"$gt\":'+str(t_min)+'}}'\n",
    "    k1 = json.loads(query)\n",
    "    cursor = mycol.find(k1)\n",
    "    #cursor = mycol.find()\n",
    "    documents = []\n",
    "    counter = 0\n",
    "    for document in cursor:\n",
    "        documents.insert(counter, document)\n",
    "        counter += 1\n",
    "    return documents\n",
    "        \n",
    "objects = range_query(-4.4032916, 10.4032917, 40.91752, 50.91752, 1343687610,1743689790)\n",
    "print(objects)"
   ]
  },
  {
   "cell_type": "code",
   "execution_count": 12,
   "metadata": {},
   "outputs": [
    {
     "name": "stdout",
     "output_type": "stream",
     "text": [
      "Connection Succeed\n",
      "7\n"
     ]
    }
   ],
   "source": [
    "def range_query(x_min, x_max, y_min, y_max, t_min, t_max, agg):\n",
    "    mycol = connect_to_mongodb('localhost', 27017, 'trajectories', '', '','objects')\n",
    "    #query = '{\"$and\":[{\"t\":{\"$gt\":'+str(t_min)+'},{\"t\":{\"$lt\":'+str(t_max)+'}}]}'\n",
    "    query = '{\"$and\":[{\"t\":{\"$gt\":'+str(t_min)+'}},{\"t\":{\"$lt\":'+str(t_max)+'}},{\"lon\":{\"$gt\":'+str(x_min)+'}},\\\n",
    "    {\"lon\":{\"$lt\":'+str(x_max)+'}},{\"lat\":{\"$gt\":'+str(y_min)+'}},{\"lat\":{\"$lt\":'+str(y_max)+'}}]}'\n",
    "    #query = '{\"t\":{\"$gt\":'+str(t_min)+'}}'\n",
    "    k1 = json.loads(query)\n",
    "    cursor = mycol.find(k1)\n",
    "    #cursor = mycol.find()\n",
    "    documents = []\n",
    "    counter = 0\n",
    "    for document in cursor:\n",
    "        documents.insert(counter, document)\n",
    "        counter += 1\n",
    "    if agg == \"count\":\n",
    "        return len(documents)\n",
    "    \n",
    "objects_len = range_query(-4.4032916, 10.4032917, 40.91752, 50.91752, 1343687610,1743689790,\"count\")\n",
    "print(objects_len)"
   ]
  },
  {
   "cell_type": "code",
   "execution_count": null,
   "metadata": {
    "collapsed": true
   },
   "outputs": [],
   "source": []
  }
 ],
 "metadata": {
  "kernelspec": {
   "display_name": "Python 3",
   "language": "python",
   "name": "python3"
  },
  "language_info": {
   "codemirror_mode": {
    "name": "ipython",
    "version": 3
   },
   "file_extension": ".py",
   "mimetype": "text/x-python",
   "name": "python",
   "nbconvert_exporter": "python",
   "pygments_lexer": "ipython3",
   "version": "3.6.3"
  }
 },
 "nbformat": 4,
 "nbformat_minor": 2
}
