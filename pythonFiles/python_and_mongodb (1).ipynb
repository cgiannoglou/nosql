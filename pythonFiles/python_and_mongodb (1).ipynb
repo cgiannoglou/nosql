{
 "cells": [
  {
   "cell_type": "code",
   "execution_count": 1,
   "metadata": {},
   "outputs": [
    {
     "name": "stdout",
     "output_type": "stream",
     "text": [
      "Connection Succeed\n"
     ]
    }
   ],
   "source": [
    "from pymongo import MongoClient\n",
    "from pyspark import SparkConf, SparkContext\n",
    "\n",
    "conf = SparkConf()\n",
    "conf.setMaster(\"local\")\n",
    "conf.setAppName(\"My application\")\n",
    "conf.set(\"spark.executor.memory\", \"1g\")\n",
    "sc = SparkContext.getOrCreate()\n",
    "\n",
    "def connect_to_mongodb(MONGO_HOST, MONGO_PORT, MONGO_DB, MONGO_USER, MONGO_PASSWORD, colllection_name):\n",
    "    client = MongoClient(MONGO_HOST, MONGO_PORT)\n",
    "    db = client[MONGO_DB]\n",
    "    #db.authenticate(MONGO_USER, MONGO_PASSWORD)\n",
    "    print(\"Connection Succeed\")\n",
    "    return db[colllection_name]\n",
    "\n",
    "mycol = connect_to_mongodb('localhost', 27017, 'test-database', '', '','posts')"
   ]
  },
  {
   "cell_type": "code",
   "execution_count": 2,
   "metadata": {},
   "outputs": [
    {
     "name": "stdout",
     "output_type": "stream",
     "text": [
      "You can search by the following keywords\n",
      "0 _id <class 'bson.objectid.ObjectId'>\n",
      "1 author <class 'str'>\n",
      "2 text <class 'str'>\n",
      "3 tags <class 'str'>\n",
      "4 date <class 'datetime.datetime'>\n",
      "5 author1 <class 'str'>\n",
      "6 text2 <class 'str'>\n",
      "7 like <class 'int'>\n",
      "8 friends <class 'int'>\n"
     ]
    }
   ],
   "source": [
    "keys_list = []\n",
    "types_list = []\n",
    "def find_keywords(mycollection):\n",
    "    cursor = mycollection.find({})\n",
    "    for document in cursor:\n",
    "        for key in document:\n",
    "            counter = 0\n",
    "            exists = 0\n",
    "            for k in keys_list:\n",
    "                counter += 1\n",
    "                if k == key:\n",
    "                    exists = 1\n",
    "                    break\n",
    "            if exists == 0:\n",
    "                result = mycollection.distinct(key)\n",
    "                types_list.insert(counter,type(result[0]))\n",
    "                keys_list.insert(counter,key)\n",
    "    if not keys_list:\n",
    "        print(\"The collection doesn 't exist or is empty!\")\n",
    "    else:\n",
    "        print(\"You can search by the following keywords\")\n",
    "        counter = 0\n",
    "        for i in keys_list:\n",
    "            print(str(counter)+\" \"+keys_list[counter]+\" \"+str(types_list[counter]))\n",
    "            counter += 1\n",
    "        \n",
    "\n",
    "find_keywords(mycol)"
   ]
  },
  {
   "cell_type": "code",
   "execution_count": 3,
   "metadata": {},
   "outputs": [
    {
     "name": "stdout",
     "output_type": "stream",
     "text": [
      "[{'_id': ObjectId('5ad5d4f01355d3099435bc5c'), 'author': 'Mike', 'like': 10, 'friends': 5}]\n"
     ]
    }
   ],
   "source": [
    "import json\n",
    "\n",
    "def filter_and(col,a,b,c):\n",
    "    query = ''\n",
    "    for i in range(len(a)):\n",
    "        a[i] = '\"'+a[i]+'\"'\n",
    "        if type(b[i]) == str:\n",
    "            b[i] = '\"'+b[i]+'\"'\n",
    "        if i == 0:\n",
    "            if c[i] == ':':\n",
    "                query += a[i]+c[i]+str(b[i])\n",
    "            elif c[i] == '>=':\n",
    "                query += '\"$or\":[{'+a[i]+':'+str(b[i])+'},{'+a[i]+':{\"$gt\":'+str(b[i])+'}}]'\n",
    "            elif c[i] == '<=':\n",
    "                query += '\"$or\":[{'+a[i]+':'+str(b[i])+'},{'+a[i]+':{\"$lt\":'+str(b[i])+'}}]'\n",
    "            elif c[i] == '>':\n",
    "                query += a[i]+':{\"$gt\":'+str(b[i])+'}'\n",
    "            elif c[i] == '<':\n",
    "                query += a[i]+':{\"$lt\":'+str(b[i])+'}'\n",
    "        else:\n",
    "            if c[i] == ':':\n",
    "                query += ','+a[i]+c[i]+str(b[i])\n",
    "            elif c[i] == '>=':\n",
    "                query += ',\"$or\":[{'+a[i]+':'+str(b[i])+'},{'+a[i]+':{\"$gt\":'+str(b[i])+'}}]'\n",
    "            elif c[i] == '<=':\n",
    "                query += ',\"$or\":[{'+a[i]+':'+str(b[i])+'},{'+a[i]+':{\"$lt\":'+str(b[i])+'}}]'\n",
    "            elif c[i] == '>':\n",
    "                query += ','+a[i]+':{\"$gt\":'+str(b[i])+'}'\n",
    "            elif c[i] == '<':\n",
    "                query += ','+a[i]+':{\"$lt\":'+str(b[i])+'}'\n",
    "    query = \"{\"+query+\"}\"\n",
    "    k1 = json.loads(query)\n",
    "    cursor = col.find(k1)\n",
    "    documents = []\n",
    "    counter = 0\n",
    "    for document in cursor:\n",
    "        documents.insert(counter, document)\n",
    "        counter += 1\n",
    "    print(documents)\n",
    "    \n",
    "    \n",
    "filter_and(mycol,[\"author\",\"like\"],[\"Mike\",10],[':','>='])"
   ]
  },
  {
   "cell_type": "code",
   "execution_count": 4,
   "metadata": {},
   "outputs": [
    {
     "name": "stdout",
     "output_type": "stream",
     "text": [
      "[{'_id': ObjectId('5a910d051355d31518730fe6'), 'author': 'Mike', 'text': 'My first blog post!', 'tags': ['mongodb', 'python', 'pymongo'], 'date': datetime.datetime(2018, 2, 24, 6, 58, 13, 816000)}, {'_id': ObjectId('5a910f3c1355d31518730fe8'), 'author': 'Mike', 'text': 'My first blog post!', 'tags': ['mongodb', 'python', 'pymongo'], 'date': datetime.datetime(2018, 2, 24, 7, 7, 40, 651000)}, {'_id': ObjectId('5a9111311355d31518730fea'), 'author': 'Mike', 'text': 'My first blog post!', 'tags': ['mongodb', 'python', 'pymongo'], 'date': datetime.datetime(2018, 2, 24, 7, 16, 0, 243000)}, {'_id': ObjectId('5ad5d4f01355d3099435bc5c'), 'author': 'Mike', 'like': 10, 'friends': 5}]\n"
     ]
    }
   ],
   "source": [
    "import json\n",
    "\n",
    "def filter_or(col,a,b,c):\n",
    "    query = ''\n",
    "    for i in range(len(a)):\n",
    "        a[i] = '\"'+a[i]+'\"'\n",
    "        if type(b[i]) == str:\n",
    "            b[i] = '\"'+b[i]+'\"'\n",
    "        if i == 0:\n",
    "            if c[i] == ':':\n",
    "                query += '{'+a[i]+c[i]+str(b[i])+'}'\n",
    "            elif c[i] == '>=':\n",
    "                query += '{\"$or\":[{'+a[i]+':'+str(b[i])+'},{'+a[i]+':{\"$gt\":'+str(b[i])+'}}]}'\n",
    "            elif c[i] == '<=':\n",
    "                query += '{\"$or\":[{'+a[i]+':'+str(b[i])+'},{'+a[i]+':{\"$lt\":'+str(b[i])+'}}]}'\n",
    "            elif c[i] == '>':\n",
    "                query += '{'+a[i]+':{\"$gt\":'+str(b[i])+'}}'\n",
    "            elif c[i] == '<':\n",
    "                query += '{'+a[i]+':{\"$lt\":'+str(b[i])+'}}'\n",
    "        else:\n",
    "            if c[i] == ':':\n",
    "                query += ',{'+a[i]+c[i]+str(b[i])+'}'\n",
    "            elif c[i] == '>=':\n",
    "                query += ',{\"$or\":[{'+a[i]+':'+str(b[i])+'},{'+a[i]+':{\"$gt\":'+str(b[i])+'}}]}'\n",
    "            elif c[i] == '<=':\n",
    "                query += ',{\"$or\":[{'+a[i]+':'+str(b[i])+'},{'+a[i]+':{\"$lt\":'+str(b[i])+'}}]}'\n",
    "            elif c[i] == '>':\n",
    "                query += ',{'+a[i]+':{\"$gt\":'+str(b[i])+'}}'\n",
    "            elif c[i] == '<':\n",
    "                query += ',{'+a[i]+':{\"$lt\":'+str(b[i])+'}}'\n",
    "    query = '{\"$or\":['+query+\"]}\"\n",
    "    k1 = json.loads(query)\n",
    "    cursor = col.find(k1)\n",
    "    documents = []\n",
    "    counter = 0\n",
    "    for document in cursor:\n",
    "        documents.insert(counter, document)\n",
    "        counter += 1\n",
    "    print(documents)\n",
    "    \n",
    "    \n",
    "filter_or(mycol,[\"like\",\"author\"],[11,\"Mike\"],['<',':'])"
   ]
  },
  {
   "cell_type": "code",
   "execution_count": null,
   "metadata": {
    "collapsed": true
   },
   "outputs": [],
   "source": []
  }
 ],
 "metadata": {
  "kernelspec": {
   "display_name": "Python 3",
   "language": "python",
   "name": "python3"
  },
  "language_info": {
   "codemirror_mode": {
    "name": "ipython",
    "version": 3
   },
   "file_extension": ".py",
   "mimetype": "text/x-python",
   "name": "python",
   "nbconvert_exporter": "python",
   "pygments_lexer": "ipython3",
   "version": "3.6.3"
  }
 },
 "nbformat": 4,
 "nbformat_minor": 2
}
